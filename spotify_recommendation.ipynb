{
 "cells": [
  {
   "cell_type": "code",
   "execution_count": 1,
   "id": "470e7891-86f0-47a7-bc3f-50fd7963f51e",
   "metadata": {},
   "outputs": [],
   "source": [
    "import requests\n",
    "import base64"
   ]
  },
  {
   "cell_type": "code",
   "execution_count": 2,
   "id": "94d77b6f-7ed6-4dda-bd7e-7cdde0305874",
   "metadata": {},
   "outputs": [],
   "source": [
    "CLIENT_ID='74dc6e3cecdf40238b60ee08adb78112'\n",
    "CLIENT_SECRET='9f53f3bf1a0146c982052930f3120b7c'\n"
   ]
  },
  {
   "cell_type": "code",
   "execution_count": 3,
   "id": "0c1be168-74d0-4689-9d4e-fe78ea3399fa",
   "metadata": {},
   "outputs": [],
   "source": [
    "client_credentials = f\"{CLIENT_ID}:{CLIENT_SECRET}\"\n",
    "client_credentials_base64 = base64.b64encode(client_credentials.encode())"
   ]
  },
  {
   "cell_type": "code",
   "execution_count": 4,
   "id": "5e5313bd-a970-4621-95b9-547cde00b25c",
   "metadata": {},
   "outputs": [
    {
     "name": "stdout",
     "output_type": "stream",
     "text": [
      "Access token obtained successfully.\n"
     ]
    }
   ],
   "source": [
    "token_url = 'https://accounts.spotify.com/api/token'\n",
    "headers = {\n",
    "    'Authorization': f'Basic {client_credentials_base64.decode()}'\n",
    "}\n",
    "data = {\n",
    "    'grant_type': 'client_credentials'\n",
    "}\n",
    "response = requests.post(token_url, data=data, headers=headers)\n",
    "\n",
    "if response.status_code == 200:\n",
    "    access_token = response.json()['access_token']\n",
    "    print(\"Access token obtained successfully.\")\n",
    "else:\n",
    "    print(\"Error obtaining access token.\")\n",
    "    exit()"
   ]
  },
  {
   "cell_type": "code",
   "execution_count": 5,
   "id": "f1f6aff4-a3d1-46cd-8228-413b3a67a356",
   "metadata": {},
   "outputs": [
    {
     "name": "stdout",
     "output_type": "stream",
     "text": [
      "Collecting spotipy\n",
      "  Downloading spotipy-2.23.0-py3-none-any.whl.metadata (3.3 kB)\n",
      "Collecting redis>=3.5.3 (from spotipy)\n",
      "  Downloading redis-5.0.3-py3-none-any.whl.metadata (9.3 kB)\n",
      "Requirement already satisfied: requests>=2.25.0 in c:\\users\\miral.miral-k\\anaconda3\\lib\\site-packages (from spotipy) (2.31.0)\n",
      "Requirement already satisfied: six>=1.15.0 in c:\\users\\miral.miral-k\\anaconda3\\lib\\site-packages (from spotipy) (1.16.0)\n",
      "Requirement already satisfied: urllib3>=1.26.0 in c:\\users\\miral.miral-k\\anaconda3\\lib\\site-packages (from spotipy) (2.0.7)\n",
      "Requirement already satisfied: charset-normalizer<4,>=2 in c:\\users\\miral.miral-k\\anaconda3\\lib\\site-packages (from requests>=2.25.0->spotipy) (2.0.4)\n",
      "Requirement already satisfied: idna<4,>=2.5 in c:\\users\\miral.miral-k\\anaconda3\\lib\\site-packages (from requests>=2.25.0->spotipy) (3.4)\n",
      "Requirement already satisfied: certifi>=2017.4.17 in c:\\users\\miral.miral-k\\anaconda3\\lib\\site-packages (from requests>=2.25.0->spotipy) (2024.2.2)\n",
      "Downloading spotipy-2.23.0-py3-none-any.whl (29 kB)\n",
      "Downloading redis-5.0.3-py3-none-any.whl (251 kB)\n",
      "   ---------------------------------------- 0.0/251.8 kB ? eta -:--:--\n",
      "   ------ --------------------------------- 41.0/251.8 kB 2.0 MB/s eta 0:00:01\n",
      "   ------------- -------------------------- 81.9/251.8 kB 1.2 MB/s eta 0:00:01\n",
      "   -------------------------- ------------- 163.8/251.8 kB 1.4 MB/s eta 0:00:01\n",
      "   ---------------------------------------  245.8/251.8 kB 1.4 MB/s eta 0:00:01\n",
      "   ---------------------------------------- 251.8/251.8 kB 1.4 MB/s eta 0:00:00\n",
      "Installing collected packages: redis, spotipy\n",
      "Successfully installed redis-5.0.3 spotipy-2.23.0\n",
      "Note: you may need to restart the kernel to use updated packages.\n"
     ]
    }
   ],
   "source": [
    "#pip install spotipy"
   ]
  },
  {
   "cell_type": "code",
   "execution_count": 38,
   "id": "fdebf0f5-94c6-4163-b775-92396ca778b9",
   "metadata": {},
   "outputs": [],
   "source": [
    "import pandas as pd\n",
    "import spotipy\n",
    "from spotipy.oauth2 import SpotifyOAuth\n",
    "\n",
    "def get_trending_playlist_data(playlist_id, access_token):\n",
    "    # Set up Spotipy with the access token\n",
    "    sp = spotipy.Spotify(auth=access_token)\n",
    "\n",
    "    # Get the tracks from the playlist\n",
    "    playlist_tracks = sp.playlist_tracks(playlist_id, fields='items(track(id, name, artists, album(id, name)))')\n",
    "\n",
    "    # Extract relevant information and store in a list of dictionaries\n",
    "    music_data = []\n",
    "    for track_info in playlist_tracks['items']:\n",
    "        track = track_info['track']\n",
    "        track_name = track['name']\n",
    "        artists = ', '.join([artist['name'] for artist in track['artists']])\n",
    "        album_name = track['album']['name']\n",
    "        album_id = track['album']['id']\n",
    "        track_id = track['id']\n",
    "\n",
    "        # Get audio features for the track\n",
    "        audio_features = sp.audio_features(track_id)[0] if track_id != 'Not available' else None\n",
    "\n",
    "        # Get release date of the album\n",
    "        try:\n",
    "            album_info = sp.album(album_id) if album_id != 'Not available' else None\n",
    "            release_date = album_info['release_date'] if album_info else None\n",
    "        except:\n",
    "            release_date = None\n",
    "\n",
    "        # Get popularity of the track\n",
    "        try:\n",
    "            track_info = sp.track(track_id) if track_id != 'Not available' else None\n",
    "            popularity = track_info['popularity'] if track_info else None\n",
    "        except:\n",
    "            popularity = None\n",
    "\n",
    "        # Add additional track information to the track data\n",
    "        track_data = {\n",
    "            'Track Name': track_name,\n",
    "            'Artists': artists,\n",
    "            'Album Name': album_name,\n",
    "            'Album ID': album_id,\n",
    "            'Track ID': track_id,\n",
    "            'Popularity': popularity,\n",
    "            'Release Date': release_date,\n",
    "            'Duration (ms)': audio_features['duration_ms'] if audio_features else None,\n",
    "            'Explicit': track_info.get('explicit', None),\n",
    "            'External URLs': track_info.get('external_urls', {}).get('spotify', None),\n",
    "            'Danceability': audio_features['danceability'] if audio_features else None,\n",
    "            'Energy': audio_features['energy'] if audio_features else None,\n",
    "            'Key': audio_features['key'] if audio_features else None,\n",
    "            'Loudness': audio_features['loudness'] if audio_features else None,\n",
    "            'Mode': audio_features['mode'] if audio_features else None,\n",
    "            'Speechiness': audio_features['speechiness'] if audio_features else None,\n",
    "            'Acousticness': audio_features['acousticness'] if audio_features else None,\n",
    "            'Instrumentalness': audio_features['instrumentalness'] if audio_features else None,\n",
    "            'Liveness': audio_features['liveness'] if audio_features else None,\n",
    "            'Valence': audio_features['valence'] if audio_features else None,\n",
    "            'Tempo': audio_features['tempo'] if audio_features else None,\n",
    "            # Add more attributes as needed\n",
    "        }\n",
    "\n",
    "        music_data.append(track_data)\n",
    "\n",
    "    # Create a pandas DataFrame from the list of dictionaries\n",
    "    df = pd.DataFrame(music_data)\n",
    "\n",
    "    return df"
   ]
  },
  {
   "cell_type": "code",
   "execution_count": 78,
   "id": "5a87d770-31e0-40b8-a351-0e6cfa509070",
   "metadata": {},
   "outputs": [
    {
     "name": "stdout",
     "output_type": "stream",
     "text": [
      "                              Track Name  \\\n",
      "0           Dandelions - slowed + reverb   \n",
      "1                                 Challa   \n",
      "2       N i g h t C h a n g e s - Slowed   \n",
      "3                         Gulabi Aankhen   \n",
      "4                          Atrangi Yaari   \n",
      "..                                   ...   \n",
      "95  What's Up Danger (with Black Caviar)   \n",
      "96                              Hey Ya !   \n",
      "97                           Subah Subah   \n",
      "98                   Tera Yaar Hoon Main   \n",
      "99              Jab Koi Baat - Recreated   \n",
      "\n",
      "                                            Artists  \\\n",
      "0                 Ruth B., sped up + slowed, slater   \n",
      "1                        A.R. Rahman, Rabbi, Gulzar   \n",
      "2                                       DancingRoom   \n",
      "3                                             Sanam   \n",
      "4     Rochak Kohli, Amitabh Bachchan, Farhan Akhtar   \n",
      "..                                              ...   \n",
      "95                           Blackway, Black Caviar   \n",
      "96  Clinton Cerejo, Shankar Mahadevan, Loy Mendonsa   \n",
      "97       Arijit Singh, Prakriti Kakar, Amaal Mallik   \n",
      "98                       Rochak Kohli, Arijit Singh   \n",
      "99             Atif Aslam, Shirley Setia, Dj Chetas   \n",
      "\n",
      "                                           Album Name                Album ID  \\\n",
      "0                        Dandelions (slowed + reverb)  0W26SC6AcPdqk1Hz5hfWnj   \n",
      "1                                    Jab Tak Hai Jaan  3G0diKadKaufyFybV3TzuP   \n",
      "2                    N i g h t C h a n g e s - Slowed  5QJVJTp6zRXV9EEEre6uG4   \n",
      "3                                   Universally SANAM  0xPcW40GWPqYki4y2Vi2pL   \n",
      "4                                       Atrangi Yaari  5Bgpof4rkSymvwGjuFLfI7   \n",
      "..                                                ...                     ...   \n",
      "95  Spider-Man: Into the Spider-Verse (Soundtrack ...  35s58BRTGAEWztPo9WqCIs   \n",
      "96                            Karthik Calling Karthik  13aLziSCr93ULLwPE2JURA   \n",
      "97                             Sonu Ke Titu Ki Sweety  0CfAXmULqKq6KVJMsLGGAX   \n",
      "98                             Sonu Ke Titu Ki Sweety  0CfAXmULqKq6KVJMsLGGAX   \n",
      "99                           Jab Koi Baat - Recreated  1nIe4xtu5pwjRLgegOYdMm   \n",
      "\n",
      "                  Track ID  Popularity Release Date  Duration (ms)  Explicit  \\\n",
      "0   6fhG2KJgwO7CrNflRaRmvp          71   2021-08-27         268717     False   \n",
      "1   6wXPV6dNRAhFavrRaCdMXT          66   2012-10-09         320418     False   \n",
      "2   0Clhzrjpc2YlwnTjbJS4b5           0   2021-01-02         257082     False   \n",
      "3   1ccZZf0IQi5y0bHMl2aGDF          69   2019-08-09         197760     False   \n",
      "4   7oVKUnaAGVgvGRGs0TQsbx          56   2015-12-25         217902     False   \n",
      "..                     ...         ...          ...            ...       ...   \n",
      "95  5zsHmE2gO3RefVsPyw2e3T          74   2018-12-14         222307     False   \n",
      "96  1qTh7hzjd361hjuzeaMFWK          61   2010-01-18         254990     False   \n",
      "97  3kHDA43cBTx63KEZm7M8rq          50   2018-02-14         277292     False   \n",
      "98  4ZTx87kAgEwlPMzoojFZWg          68   2018-02-14         264806     False   \n",
      "99  43GfQ1SC17rBWiHkOtdwK8          69   2018-02-09         192229     False   \n",
      "\n",
      "                                        External URLs  ...  Energy  Key  \\\n",
      "0   https://open.spotify.com/track/6fhG2KJgwO7CrNf...  ...   0.715    8   \n",
      "1   https://open.spotify.com/track/6wXPV6dNRAhFavr...  ...   0.795    0   \n",
      "2   https://open.spotify.com/track/0Clhzrjpc2YlwnT...  ...   0.366    5   \n",
      "3   https://open.spotify.com/track/1ccZZf0IQi5y0bH...  ...   0.647    0   \n",
      "4   https://open.spotify.com/track/7oVKUnaAGVgvGRG...  ...   0.474   10   \n",
      "..                                                ...  ...     ...  ...   \n",
      "95  https://open.spotify.com/track/5zsHmE2gO3RefVs...  ...   0.755    2   \n",
      "96  https://open.spotify.com/track/1qTh7hzjd361hju...  ...   0.588    7   \n",
      "97  https://open.spotify.com/track/3kHDA43cBTx63KE...  ...   0.646    3   \n",
      "98  https://open.spotify.com/track/4ZTx87kAgEwlPMz...  ...   0.541   10   \n",
      "99  https://open.spotify.com/track/43GfQ1SC17rBWiH...  ...   0.621    5   \n",
      "\n",
      "    Loudness  Mode  Speechiness  Acousticness  Instrumentalness  Liveness  \\\n",
      "0     -3.293     0       0.0256       0.04440          0.000000    0.0898   \n",
      "1     -5.454     1       0.0485       0.12100          0.000000    0.1380   \n",
      "2    -13.448     1       0.0282       0.86300          0.000000    0.3190   \n",
      "3     -6.970     0       0.0436       0.42200          0.000000    0.2510   \n",
      "4     -6.300     1       0.0247       0.73100          0.000000    0.1120   \n",
      "..       ...   ...          ...           ...               ...       ...   \n",
      "95    -5.820     1       0.0417       0.00363          0.000795    0.1210   \n",
      "96    -9.136     0       0.0302       0.18400          0.000027    0.0788   \n",
      "97    -7.187     1       0.0500       0.30800          0.000000    0.1960   \n",
      "98    -5.525     1       0.0313       0.34000          0.000005    0.1020   \n",
      "99    -5.697     1       0.0271       0.47000          0.000041    0.1300   \n",
      "\n",
      "    Valence    Tempo  \n",
      "0     0.258  101.699  \n",
      "1     0.569  117.989  \n",
      "2     0.345  106.857  \n",
      "3     0.440  105.914  \n",
      "4     0.482   92.070  \n",
      "..      ...      ...  \n",
      "95    0.116   95.036  \n",
      "96    0.789  115.087  \n",
      "97    0.288  128.045  \n",
      "98    0.309   83.978  \n",
      "99    0.451  106.032  \n",
      "\n",
      "[100 rows x 21 columns]\n"
     ]
    }
   ],
   "source": [
    "playlist_id = '4LWtqjqMYxIIhUVQHJR8hV'\n",
    "#https://open.spotify.com/playlist/4LWtqjqMYxIIhUVQHJR8hV?si=18ea3af891834a77\n",
    "\n",
    "# Call the function to get the music data from the playlist and store it in a DataFrame\n",
    "music_df = get_trending_playlist_data(playlist_id, access_token)\n",
    "\n",
    "# Display the DataFrame\n",
    "print(music_df)"
   ]
  },
  {
   "cell_type": "code",
   "execution_count": 91,
   "id": "001850e5-4d42-466f-baae-d75df66fd680",
   "metadata": {},
   "outputs": [
    {
     "data": {
      "text/plain": [
       "(100, 21)"
      ]
     },
     "execution_count": 91,
     "metadata": {},
     "output_type": "execute_result"
    }
   ],
   "source": [
    "music_df.shape"
   ]
  },
  {
   "cell_type": "code",
   "execution_count": 79,
   "id": "d12b3193-7ccf-46b5-a57b-7723ed713765",
   "metadata": {},
   "outputs": [
    {
     "name": "stdout",
     "output_type": "stream",
     "text": [
      "Track Name          0\n",
      "Artists             0\n",
      "Album Name          0\n",
      "Album ID            0\n",
      "Track ID            0\n",
      "Popularity          0\n",
      "Release Date        0\n",
      "Duration (ms)       0\n",
      "Explicit            0\n",
      "External URLs       0\n",
      "Danceability        0\n",
      "Energy              0\n",
      "Key                 0\n",
      "Loudness            0\n",
      "Mode                0\n",
      "Speechiness         0\n",
      "Acousticness        0\n",
      "Instrumentalness    0\n",
      "Liveness            0\n",
      "Valence             0\n",
      "Tempo               0\n",
      "dtype: int64\n"
     ]
    }
   ],
   "source": [
    "print(music_df.isnull().sum())\n"
   ]
  },
  {
   "cell_type": "code",
   "execution_count": 80,
   "id": "b99d51fb-5de9-4831-a54b-f7cea06ea70c",
   "metadata": {},
   "outputs": [],
   "source": [
    "import pandas as pd\n",
    "import numpy as np\n",
    "from sklearn.model_selection import train_test_split\n",
    "from sklearn.preprocessing import MinMaxScaler\n",
    "from datetime import datetime\n",
    "from sklearn.metrics.pairwise import cosine_similarity"
   ]
  },
  {
   "cell_type": "code",
   "execution_count": 81,
   "id": "98862128-0c55-43de-bdc4-2eb8f541e8cd",
   "metadata": {},
   "outputs": [],
   "source": [
    "data = music_df"
   ]
  },
  {
   "cell_type": "code",
   "execution_count": 82,
   "id": "2acd0056-e677-4809-9875-2d8af123c747",
   "metadata": {},
   "outputs": [],
   "source": [
    "# Function to calculate weighted popularity scores based on release date\n",
    "def calculate_weighted_popularity(release_date):\n",
    "    # Convert the release date to datetime object\n",
    "    release_date = datetime.strptime(release_date, '%Y-%m-%d')\n",
    "\n",
    "    # Calculate the time span between release date and today's date\n",
    "    time_span = datetime.now() - release_date\n",
    "\n",
    "    # Calculate the weighted popularity score based on time span (e.g., more recent releases have higher weight)\n",
    "    weight = 1 / (time_span.days + 1)\n",
    "    return weight"
   ]
  },
  {
   "cell_type": "code",
   "execution_count": 83,
   "id": "58e01525-aa1f-417e-9d47-420e394b263e",
   "metadata": {},
   "outputs": [],
   "source": [
    "# Normalize the music features using Min-Max scaling\n",
    "scaler = MinMaxScaler()\n",
    "music_features = music_df[['Danceability', 'Energy', 'Key', \n",
    "                           'Loudness', 'Mode', 'Speechiness', 'Acousticness',\n",
    "                           'Instrumentalness', 'Liveness', 'Valence', 'Tempo']].values\n",
    "music_features_scaled = scaler.fit_transform(music_features)"
   ]
  },
  {
   "cell_type": "code",
   "execution_count": 84,
   "id": "8292894c-e322-4c53-a6f8-3e284794d8b4",
   "metadata": {},
   "outputs": [],
   "source": [
    "# a function to get content-based recommendations based on music features\n",
    "def content_based_recommendations(input_song_name, num_recommendations=5):\n",
    "    if input_song_name not in music_df['Track Name'].values:\n",
    "        print(f\"'{input_song_name}' not found in the dataset. Please enter a valid song name.\")\n",
    "        return pd.DataFrame()  # Return an empty DataFrame if the input song is not found\n",
    "\n",
    "    # Get the index of the input song in the music DataFrame\n",
    "    input_song_index = music_df[music_df['Track Name'] == input_song_name].index[0]\n",
    "\n",
    "    # Calculate the similarity scores based on music features (cosine similarity)\n",
    "    similarity_scores = cosine_similarity([music_features_scaled[input_song_index]], music_features_scaled)\n",
    "\n",
    "    # Get the indices of the most similar songs\n",
    "    similar_song_indices = similarity_scores.argsort()[0][::-1][1:num_recommendations + 1]\n",
    "\n",
    "    # Get the names of the most similar songs based on content-based filtering\n",
    "    content_based_recommendations = music_df.iloc[similar_song_indices][['Track Name', 'Artists', 'Album Name', 'Release Date', 'Popularity']]\n",
    "\n",
    "    return content_based_recommendations\n"
   ]
  },
  {
   "cell_type": "code",
   "execution_count": 85,
   "id": "eee4d5a8-aa22-496e-a6a8-4e31239c3af3",
   "metadata": {},
   "outputs": [],
   "source": [
    "import pandas as pd\n",
    "\n",
    "# a function to get hybrid recommendations based on weighted popularity\n",
    "def hybrid_recommendations(input_song_name, num_recommendations=5, alpha=0.5):\n",
    "    if input_song_name not in music_df['Track Name'].values:\n",
    "        print(f\"'{input_song_name}' not found in the dataset. Please enter a valid song name.\")\n",
    "        return\n",
    "\n",
    "    # Get content-based recommendations\n",
    "    content_based_rec = content_based_recommendations(input_song_name, num_recommendations)\n",
    "\n",
    "    # Get the popularity score of the input song\n",
    "    popularity_score = music_df.loc[music_df['Track Name'] == input_song_name, 'Popularity'].values[0]\n",
    "\n",
    "    # Calculate the weighted popularity score\n",
    "    weighted_popularity_score = popularity_score * calculate_weighted_popularity(music_df.loc[music_df['Track Name'] == input_song_name, 'Release Date'].values[0])\n",
    "\n",
    "    # Create a DataFrame for the input song\n",
    "    input_song_data = {\n",
    "        'Track Name': [input_song_name],\n",
    "        'Artists': [music_df.loc[music_df['Track Name'] == input_song_name, 'Artists'].values[0]],\n",
    "        'Album Name': [music_df.loc[music_df['Track Name'] == input_song_name, 'Album Name'].values[0]],\n",
    "        'Release Date': [music_df.loc[music_df['Track Name'] == input_song_name, 'Release Date'].values[0]],\n",
    "        'Popularity': [weighted_popularity_score]\n",
    "    }\n",
    "\n",
    "    # Convert input song data to DataFrame\n",
    "    input_song_df = pd.DataFrame(input_song_data)\n",
    "\n",
    "    # Concatenate content-based recommendations with input song data\n",
    "    hybrid_recommendations = pd.concat([content_based_rec, input_song_df], ignore_index=True)\n",
    "\n",
    "    # Sort the hybrid recommendations based on weighted popularity score\n",
    "    hybrid_recommendations = hybrid_recommendations.sort_values(by='Popularity', ascending=False)\n",
    "\n",
    "    # Remove the input song from the recommendations\n",
    "    hybrid_recommendations = hybrid_recommendations[hybrid_recommendations['Track Name'] != input_song_name]\n",
    "\n",
    "    return hybrid_recommendations\n"
   ]
  },
  {
   "cell_type": "code",
   "execution_count": 92,
   "id": "b1022ac9-ccf8-447a-b1cc-a270ac39e175",
   "metadata": {},
   "outputs": [
    {
     "name": "stdout",
     "output_type": "stream",
     "text": [
      "Hybrid recommended songs for 'AOK':\n",
      "         Track Name                                            Artists  \\\n",
      "3        Heat Waves                                      Glass Animals   \n",
      "2            Closer                           The Chainsmokers, Halsey   \n",
      "0           History                                      One Direction   \n",
      "1  Dard - E - Disco  Sukhwinder Singh, Marianne, Nisha, Caralisa Mo...   \n",
      "4         Khalibali                          Shivam Pathak, Shail Hada   \n",
      "\n",
      "                          Album Name Release Date  Popularity  \n",
      "3                          Dreamland   2020-08-07        89.0  \n",
      "2                             Closer   2016-07-29        86.0  \n",
      "0  Made In The A.M. (Deluxe Edition)   2015-11-13        75.0  \n",
      "1                       Om Shanti Om   2007-09-18        66.0  \n",
      "4                          Padmaavat   2018-01-21        56.0  \n"
     ]
    }
   ],
   "source": [
    "input_song_name = \"AOK\"\n",
    "recommendations = hybrid_recommendations(input_song_name, num_recommendations=5)\n",
    "print(f\"Hybrid recommended songs for '{input_song_name}':\")\n",
    "print(recommendations)"
   ]
  }
 ],
 "metadata": {
  "kernelspec": {
   "display_name": "Python 3 (ipykernel)",
   "language": "python",
   "name": "python3"
  },
  "language_info": {
   "codemirror_mode": {
    "name": "ipython",
    "version": 3
   },
   "file_extension": ".py",
   "mimetype": "text/x-python",
   "name": "python",
   "nbconvert_exporter": "python",
   "pygments_lexer": "ipython3",
   "version": "3.11.7"
  }
 },
 "nbformat": 4,
 "nbformat_minor": 5
}
